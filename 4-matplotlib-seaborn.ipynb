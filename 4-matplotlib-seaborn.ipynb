{
 "cells": [
  {
   "cell_type": "code",
   "execution_count": 1,
   "id": "e9bf478f",
   "metadata": {},
   "outputs": [],
   "source": [
    "# Why Matplotlib?\n",
    "\n",
    "# - Build on Numpy arrays (and Python)\n",
    "# - Integrates directly with pandas\n",
    "# - Can create basic or advanced plots\n",
    "# - Simple to use interface (once you get the foundations)"
   ]
  },
  {
   "cell_type": "code",
   "execution_count": 2,
   "id": "ad94e0b5",
   "metadata": {},
   "outputs": [],
   "source": [
    "# What we'll cover?\n",
    "\n",
    "# - Matplotlib workflow\n",
    "# - Importing Matplotlib and the 2 ways of plaotting\n",
    "# - Plotting data from NumPy arrays\n",
    "# - Plotting data from pandas DataFrames\n",
    "# - Customizing plots\n",
    "# - Saving and sharing plot"
   ]
  },
  {
   "cell_type": "code",
   "execution_count": null,
   "id": "6d1c9ac6",
   "metadata": {},
   "outputs": [],
   "source": []
  }
 ],
 "metadata": {
  "kernelspec": {
   "display_name": "Python 3",
   "language": "python",
   "name": "python3"
  },
  "language_info": {
   "codemirror_mode": {
    "name": "ipython",
    "version": 3
   },
   "file_extension": ".py",
   "mimetype": "text/x-python",
   "name": "python",
   "nbconvert_exporter": "python",
   "pygments_lexer": "ipython3",
   "version": "3.10.18"
  }
 },
 "nbformat": 4,
 "nbformat_minor": 5
}
